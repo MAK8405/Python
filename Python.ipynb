{
 "cells": [
  {
   "cell_type": "markdown",
   "id": "261a5152",
   "metadata": {},
   "source": [
    "# Python"
   ]
  },
  {
   "cell_type": "markdown",
   "id": "7062cc56",
   "metadata": {},
   "source": [
    "## Getting Started"
   ]
  },
  {
   "cell_type": "markdown",
   "id": "9bb99c83",
   "metadata": {},
   "source": [
    "### Your First Python Program"
   ]
  },
  {
   "cell_type": "code",
   "execution_count": 1,
   "id": "f2565e8d",
   "metadata": {},
   "outputs": [
    {
     "name": "stdout",
     "output_type": "stream",
     "text": [
      "Hello World 😸\n"
     ]
    }
   ],
   "source": [
    "print(\"Hello World 😸\")"
   ]
  },
  {
   "cell_type": "code",
   "execution_count": 2,
   "id": "3e9a8ef6",
   "metadata": {},
   "outputs": [
    {
     "name": "stdout",
     "output_type": "stream",
     "text": [
      "**********\n"
     ]
    }
   ],
   "source": [
    "print(\"*\" * 10)"
   ]
  },
  {
   "cell_type": "markdown",
   "id": "87f36967",
   "metadata": {},
   "source": [
    "### Linting Code"
   ]
  },
  {
   "cell_type": "code",
   "execution_count": 1,
   "id": "baa7f560",
   "metadata": {},
   "outputs": [
    {
     "ename": "SyntaxError",
     "evalue": "Missing parentheses in call to 'print'. Did you mean print(...)? (2529168412.py, line 1)",
     "output_type": "error",
     "traceback": [
      "\u001b[1;36m  Cell \u001b[1;32mIn[1], line 1\u001b[1;36m\u001b[0m\n\u001b[1;33m    print \"Hello World\"\u001b[0m\n\u001b[1;37m    ^\u001b[0m\n\u001b[1;31mSyntaxError\u001b[0m\u001b[1;31m:\u001b[0m Missing parentheses in call to 'print'. Did you mean print(...)?\n"
     ]
    }
   ],
   "source": [
    "print \"Hello World\"\n",
    "print(\"Hello World\")"
   ]
  },
  {
   "cell_type": "code",
   "execution_count": 2,
   "id": "deb42f1a",
   "metadata": {},
   "outputs": [
    {
     "ename": "SyntaxError",
     "evalue": "invalid syntax (2446542441.py, line 1)",
     "output_type": "error",
     "traceback": [
      "\u001b[1;36m  Cell \u001b[1;32mIn[2], line 1\u001b[1;36m\u001b[0m\n\u001b[1;33m    2 +\u001b[0m\n\u001b[1;37m        ^\u001b[0m\n\u001b[1;31mSyntaxError\u001b[0m\u001b[1;31m:\u001b[0m invalid syntax\n"
     ]
    }
   ],
   "source": [
    "2 + \n",
    "2 + 2"
   ]
  },
  {
   "cell_type": "markdown",
   "id": "2bfe723a",
   "metadata": {},
   "source": [
    "### Formatting Python Code"
   ]
  },
  {
   "cell_type": "code",
   "execution_count": 1,
   "id": "89bd65e9",
   "metadata": {},
   "outputs": [],
   "source": [
    "x = 1\n",
    "y = 2\n",
    "unit_price = 3"
   ]
  },
  {
   "cell_type": "markdown",
   "id": "c7f55835",
   "metadata": {},
   "source": [
    "### Running Python Code"
   ]
  },
  {
   "cell_type": "code",
   "execution_count": 1,
   "id": "30c445e8",
   "metadata": {},
   "outputs": [
    {
     "name": "stdout",
     "output_type": "stream",
     "text": [
      "Hello World\n"
     ]
    }
   ],
   "source": [
    "print(\"Hello World\")"
   ]
  },
  {
   "cell_type": "markdown",
   "id": "0c61bec0",
   "metadata": {},
   "source": [
    "### Quiz"
   ]
  },
  {
   "cell_type": "code",
   "execution_count": 2,
   "id": "e0c0cc76",
   "metadata": {},
   "outputs": [
    {
     "data": {
      "text/plain": [
       "'***'"
      ]
     },
     "execution_count": 2,
     "metadata": {},
     "output_type": "execute_result"
    }
   ],
   "source": [
    "\"*\" * 3"
   ]
  },
  {
   "cell_type": "markdown",
   "id": "038d20a9",
   "metadata": {},
   "source": [
    "## Primitive Types"
   ]
  },
  {
   "cell_type": "code",
   "execution_count": null,
   "id": "5900749b",
   "metadata": {},
   "outputs": [],
   "source": []
  }
 ],
 "metadata": {
  "kernelspec": {
   "display_name": "Python 3",
   "language": "python",
   "name": "python3"
  },
  "language_info": {
   "codemirror_mode": {
    "name": "ipython",
    "version": 3
   },
   "file_extension": ".py",
   "mimetype": "text/x-python",
   "name": "python",
   "nbconvert_exporter": "python",
   "pygments_lexer": "ipython3",
   "version": "3.10.0"
  }
 },
 "nbformat": 4,
 "nbformat_minor": 5
}
